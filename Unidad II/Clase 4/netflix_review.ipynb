{
 "cells": [
  {
   "cell_type": "code",
   "execution_count": 1,
   "id": "ee20b04b",
   "metadata": {},
   "outputs": [],
   "source": [
    "# !pip install textblob"
   ]
  },
  {
   "cell_type": "code",
   "execution_count": 2,
   "id": "e7ebb0d3",
   "metadata": {},
   "outputs": [
    {
     "name": "stdout",
     "output_type": "stream",
     "text": [
      "                                             content  sentiment\n",
      "0                                         I loved it        0.7\n",
      "1  Won't update. All I want it to watch netflix o...        0.0\n",
      "2                      App is filled with game adds.        0.0\n",
      "3                                            Love it        0.5\n",
      "4                                  Just lost in t.v.        0.0\n"
     ]
    }
   ],
   "source": [
    "import pandas as pd\n",
    "from textblob import TextBlob\n",
    "\n",
    "# Cargar el archivo CSV\n",
    "file_path = 'netflix_reviews.csv'\n",
    "df = pd.read_csv(file_path)\n",
    "\n",
    "# Asegurarse de que los valores en la columna 'content' sean cadenas de texto\n",
    "df['content'] = df['content'].astype(str)\n",
    "\n",
    "# Definir una función para obtener el sentimiento de cada reseña\n",
    "def get_sentiment(text):\n",
    "    analysis = TextBlob(text)\n",
    "    # Devuelve la polaridad del sentimiento\n",
    "    return analysis.sentiment.polarity\n",
    "\n",
    "# Aplicar la función de sentimiento a la columna 'content'\n",
    "df['sentiment'] = df['content'].apply(get_sentiment)\n",
    "\n",
    "# Mostrar las primeras filas con la nueva columna de sentimiento\n",
    "print(df[['content', 'sentiment']].head())"
   ]
  }
 ],
 "metadata": {
  "kernelspec": {
   "display_name": "Python 3 (ipykernel)",
   "language": "python",
   "name": "python3"
  },
  "language_info": {
   "codemirror_mode": {
    "name": "ipython",
    "version": 3
   },
   "file_extension": ".py",
   "mimetype": "text/x-python",
   "name": "python",
   "nbconvert_exporter": "python",
   "pygments_lexer": "ipython3",
   "version": "3.11.4"
  }
 },
 "nbformat": 4,
 "nbformat_minor": 5
}
